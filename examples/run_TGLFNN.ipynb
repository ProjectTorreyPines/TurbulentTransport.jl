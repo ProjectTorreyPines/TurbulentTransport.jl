{
 "cells": [
  {
   "cell_type": "markdown",
   "id": "dea9438f-5c00-4336-9d94-b5acb6114758",
   "metadata": {},
   "source": [
    "# Run different TGLFs"
   ]
  },
  {
   "cell_type": "code",
   "execution_count": null,
   "id": "85459ea5-c90f-4bd5-8099-2f0de4936792",
   "metadata": {
    "tags": []
   },
   "outputs": [],
   "source": [
    "# using Pkg\n",
    "# Pkg.activate(\"../../FUSE\")\n",
    "using TurbulentTransport"
   ]
  },
  {
   "cell_type": "code",
   "execution_count": 6,
   "id": "15e33071-cf8c-41c2-a0e9-73367086579d",
   "metadata": {
    "tags": []
   },
   "outputs": [],
   "source": [
    "# lets write an input.tglf to file\n",
    "\n",
    "tmpdir = mktempdir()\n",
    "filepath = joinpath(tmpdir, \"input.tglf\")\n",
    "input_tglf_lines = \"\"\"\n",
    "ADIABATIC_ELEC = .false.\n",
    "ALPHA_E = 1.0\n",
    "ALPHA_MACH = 0.0\n",
    "ALPHA_P = 1.0\n",
    "ALPHA_QUENCH = 0\n",
    "ALPHA_ZF = -1.0\n",
    "AS_1 = 1.0\n",
    "AS_2 = 0.784867\n",
    "AS_3 = 0.0302081\n",
    "BETAE = 0.00362972\n",
    "BETA_LOC = 0.0\n",
    "DAMP_PSI = 0.0\n",
    "DAMP_SIG = 0.0\n",
    "DEBYE = 0.0217677\n",
    "DEBYE_FACTOR = 1.0\n",
    "DELTA_LOC = 0.0681444\n",
    "DRMAJDX_LOC = -0.189065\n",
    "DRMINDX_LOC = 1.0\n",
    "DZMAJDX_LOC = 0.00278328\n",
    "ETG_FACTOR = 1.25\n",
    "FILTER = 2.0\n",
    "FIND_WIDTH = .true.\n",
    "GCHAT = 1.0\n",
    "GHAT = 1.0\n",
    "GRADB_FACTOR = 0.0\n",
    "IBRANCH = -1\n",
    "IFLUX = .true.\n",
    "KAPPA_LOC = 1.40438\n",
    "KX0_LOC = 0.0\n",
    "KY = 0.3\n",
    "KYGRID_MODEL = 4\n",
    "LINSKER_FACTOR = 0.0\n",
    "MASS_1 = 0.000272445\n",
    "MASS_2 = 1.0\n",
    "MASS_3 = 6.0\n",
    "NBASIS_MAX = 6\n",
    "NBASIS_MIN = 2\n",
    "NEW_EIKONAL = .true.\n",
    "NKY = 12\n",
    "NMODES = 2\n",
    "NS = 3\n",
    "NWIDTH = 21\n",
    "NXGRID = 16\n",
    "PARK = 1.0\n",
    "P_PRIME_LOC = -0.00355359\n",
    "Q_LOC = 2.00545\n",
    "Q_PRIME_LOC = 14.7947\n",
    "RLNP_CUTOFF = 18.0\n",
    "RLNS_1 = 0.513787\n",
    "RLNS_2 = 0.758616\n",
    "RLNS_3 = -0.872531\n",
    "RLTS_1 = 2.03987\n",
    "RLTS_2 = 2.20153\n",
    "RLTS_3 = 2.20153\n",
    "RMAJ_LOC = 2.86212\n",
    "RMIN_LOC = 0.573129\n",
    "SAT_RULE = 3\n",
    "SIGN_BT = -1\n",
    "SIGN_IT = 1\n",
    "S_DELTA_LOC = 0.116297\n",
    "S_KAPPA_LOC = 0.125574\n",
    "S_ZETA_LOC = -0.0258657\n",
    "TAUS_1 = 1.0\n",
    "TAUS_2 = 1.39296\n",
    "TAUS_3 = 1.39296\n",
    "THETA_TRAPPED = 0.7\n",
    "UNITS = 'GYRO'\n",
    "USE_AVE_ION_GRID = .false.\n",
    "USE_BISECTION = .true.\n",
    "USE_BPAR = .true.\n",
    "USE_BPER = .true.\n",
    "USE_INBOARD_DETRAPPED = .false.\n",
    "USE_MHD_RULE = .false.\n",
    "VEXB_SHEAR = 0.080234\n",
    "VPAR_1 = 0.419061\n",
    "VPAR_2 = 0.419061\n",
    "VPAR_3 = 0.419061\n",
    "VPAR_MODEL = 0\n",
    "VPAR_SHEAR_1 = 0.803536\n",
    "VPAR_SHEAR_2 = 0.803536\n",
    "VPAR_SHEAR_3 = 0.803536\n",
    "VPAR_SHEAR_MODEL = 1\n",
    "WDIA_TRAPPED = 1.0\n",
    "WD_ZERO = 0.1\n",
    "WIDTH = 1.65\n",
    "WIDTH_MIN = 0.3\n",
    "XNUE = 0.0948099\n",
    "XNU_FACTOR = 1.0\n",
    "XNU_MODEL = 3\n",
    "ZEFF = 1.90624\n",
    "ZETA_LOC = -0.0148888\n",
    "ZMAJ_LOC = -0.0576768\n",
    "ZS_1 = -1.0\n",
    "ZS_2 = 1.0\n",
    "ZS_3 = 6.0\n",
    "\"\"\";\n",
    "open(filepath, \"w\") do f\n",
    "    write(f, input_tglf_lines)\n",
    "end;"
   ]
  },
  {
   "cell_type": "code",
   "execution_count": null,
   "id": "e2db1b55-49b4-4a84-8a0d-aa08e18047cb",
   "metadata": {
    "tags": []
   },
   "outputs": [],
   "source": [
    "# lets load the input.tglf file\n",
    "input_tglf = TurbulentTransport.load(InputTGLF(),filepath);\n",
    "# Ensure TJLF runs with the same parameters in TGLF for USE_PRESETS=.true.\n",
    "if input_tglf.SAT_RULE == 2 || input_tglf.SAT_RULE == 3\n",
    "    input_tglf.XNU_MODEL = 3\n",
    "    input_tglf.WDIA_TRAPPED = 1.0\n",
    "    if input_tglf.UNITS == \"'GYRO'\"\n",
    "        input_tglf.UNITS = \"'CGYRO'\"\n",
    "    end\n",
    "elseif input_tglf.SAT_RULE == 1\n",
    "    input_tglf.XNU_MODEL = 2\n",
    "elseif input_tglf.SAT_RULE == 0\n",
    "    input_tglf.UNITS = \"'GYRO'\"\n",
    "    input_tglf.XNU_MODEL = 2\n",
    "    if input_tglf.NMODES > 2\n",
    "        input_tglf.NMODES = 4\n",
    "    end\n",
    "end\n",
    "\n",
    "input_tglf "
   ]
  },
  {
   "cell_type": "code",
   "execution_count": null,
   "id": "fc3bff4f-4a46-4b07-bd79-820aa4a580b9",
   "metadata": {
    "tags": []
   },
   "outputs": [],
   "source": [
    "# get a list of available models\n",
    "\n",
    "for model in TurbulentTransport.available_models()\n",
    "    println(model)\n",
    "end"
   ]
  },
  {
   "cell_type": "code",
   "execution_count": null,
   "id": "77136bc2-a21f-4391-b9a9-a5a49ce5b253",
   "metadata": {
    "tags": []
   },
   "outputs": [],
   "source": [
    "# run TGLF-NN\n",
    "TurbulentTransport.run_tglfnn(input_tglf; model_filename=\"sat3_em_d3d_azf-1\", warn_nn_train_bounds=true)"
   ]
  },
  {
   "cell_type": "code",
   "execution_count": null,
   "id": "2fb2256b",
   "metadata": {},
   "outputs": [],
   "source": [
    "# compare with full TGLF\n",
    "TurbulentTransport.run_tglf(input_tglf)"
   ]
  },
  {
   "cell_type": "code",
   "execution_count": null,
   "id": "35dc96bd-efcd-47fc-8b91-d9b13da660b6",
   "metadata": {
    "tags": []
   },
   "outputs": [],
   "source": [
    "# compare with full TJLF\n",
    "TurbulentTransport.run_tjlf(input_tglf)"
   ]
  },
  {
   "cell_type": "code",
   "execution_count": null,
   "id": "53596f78",
   "metadata": {},
   "outputs": [],
   "source": [
    "# run GKNN\n",
    "TurbulentTransport.run_tglfnn(input_tglf; model_filename=\"sat3_em_d3d_azf-1\", warn_nn_train_bounds=true, fidelity=:GKNN)"
   ]
  }
 ],
 "metadata": {
  "kernelspec": {
   "display_name": "Julia 1.11.5",
   "language": "julia",
   "name": "julia-1.11"
  },
  "language_info": {
   "file_extension": ".jl",
   "mimetype": "application/julia",
   "name": "julia",
   "version": "1.11.5"
  }
 },
 "nbformat": 4,
 "nbformat_minor": 5
}
